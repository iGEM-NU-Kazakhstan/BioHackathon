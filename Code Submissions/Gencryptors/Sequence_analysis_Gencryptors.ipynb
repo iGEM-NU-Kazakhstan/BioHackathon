{
  "nbformat": 4,
  "nbformat_minor": 0,
  "metadata": {
    "colab": {
      "name": "Sequence_analysis_Gencryptors.ipynb",
      "provenance": [],
      "collapsed_sections": []
    },
    "kernelspec": {
      "name": "python3",
      "display_name": "Python 3"
    },
    "language_info": {
      "name": "python"
    }
  },
  "cells": [
    {
      "cell_type": "code",
      "metadata": {
        "colab": {
          "base_uri": "https://localhost:8080/"
        },
        "id": "hfgJUzajhLJT",
        "outputId": "b07f1ec2-ebf0-4101-f079-a0070ca4f78f"
      },
      "source": [
        "!pip install biopython"
      ],
      "execution_count": null,
      "outputs": [
        {
          "output_type": "stream",
          "name": "stdout",
          "text": [
            "Collecting biopython\n",
            "  Downloading biopython-1.79-cp37-cp37m-manylinux_2_5_x86_64.manylinux1_x86_64.whl (2.3 MB)\n",
            "\u001b[K     |████████████████████████████████| 2.3 MB 5.1 MB/s \n",
            "\u001b[?25hRequirement already satisfied: numpy in /usr/local/lib/python3.7/dist-packages (from biopython) (1.19.5)\n",
            "Installing collected packages: biopython\n",
            "Successfully installed biopython-1.79\n"
          ]
        }
      ]
    },
    {
      "cell_type": "code",
      "metadata": {
        "id": "bEFw27tOMmDg"
      },
      "source": [
        "acids={\n",
        "    'A': ['GCA', 'GCC', 'GCG', 'GCT'],\n",
        "    'N': ['AAC', 'AAT'],\n",
        "    'C': ['TGC', 'TGT'],\n",
        "    'D': ['GAC', 'GAT'],\n",
        "    'E': ['GAA', 'GAG'],\n",
        "    'F': ['TTC', 'TTT'],\n",
        "    'G': ['GGA', 'GGC', 'GGG', 'GGT'],\n",
        "    'H': ['CAC', 'CAT'],\n",
        "    'I': ['ATA', 'ATC', 'ATT'],\n",
        "    'K': ['AAA', 'AAG'],\n",
        "    'L': ['CTA', 'CTC', 'CTG', 'CTT', 'TTA', 'TTG'],\n",
        "    'M': ['ATG'],\n",
        "    'N': ['AAC', 'AAT'],\n",
        "    'P': ['CCA', 'CCC', 'CCG', 'CCT'],\n",
        "    'Q': ['CAA', 'CAG'],\n",
        "    'R': ['AGA', 'AGG', 'CGA', 'CGC', 'CGG', 'CGT'],\n",
        "    'S': ['AGC', 'AGT', 'TCA', 'TCC', 'TCG', 'TCT'],\n",
        "    'T': ['ACA', 'ACC', 'ACG', 'ACT'],\n",
        "    'V': ['GTA', 'GTC', 'GTG', 'GTT'],\n",
        "    'W': ['TGG'],\n",
        "    'Y': ['TAC', 'TAT'],\n",
        "    'Stop': ['TAA', 'TAG', 'TGA']\n",
        " \n",
        "}"
      ],
      "execution_count": null,
      "outputs": []
    },
    {
      "cell_type": "code",
      "metadata": {
        "colab": {
          "base_uri": "https://localhost:8080/"
        },
        "id": "oaIY-43MnXT2",
        "outputId": "dd535168-6f0d-41b8-c852-61ea82cf06b8"
      },
      "source": [
        "#check existence of a file\n",
        "import os\n",
        "name_of_file=input(\"Please enter a name of file with genome sequence with the extention:\\t\")\n",
        "os.path.isfile(name_of_file)"
      ],
      "execution_count": 50,
      "outputs": [
        {
          "name": "stdout",
          "output_type": "stream",
          "text": [
            "Please enter a name of file with genome sequence with the extention:\tgenome.txt\n"
          ]
        },
        {
          "output_type": "execute_result",
          "data": {
            "text/plain": [
              "True"
            ]
          },
          "metadata": {},
          "execution_count": 50
        }
      ]
    },
    {
      "cell_type": "code",
      "metadata": {
        "id": "37xSwxnHJVuQ"
      },
      "source": [
        "#import genome sequence from a file\n",
        "import os\n",
        "from Bio.Restriction import *\n",
        "from Bio.Seq import Seq\n",
        "from pathlib import Path\n",
        "if (os.path.isfile(name_of_file)):\n",
        "    seqe = Path(name_of_file).read_text() \n",
        "    # get rid of \\n\n",
        "    seqe = seqe.replace('\\n', '')"
      ],
      "execution_count": null,
      "outputs": []
    },
    {
      "cell_type": "code",
      "metadata": {
        "id": "ChdtRGR5zWT_"
      },
      "source": [
        "#Checking if inputted enzyme exists \n",
        "\n",
        "from Bio.Restriction import AllEnzymes, Restriction\n",
        "\n",
        "def input_enzyme_name():\n",
        "  input_message = 'Please write name of an enzyme (0 to stop):'\n",
        "  given_enzyme_name_is_correct = False\n",
        "  enz_list=[]\n",
        "  enz_name=input(input_message)\n",
        "  while not given_enzyme_name_is_correct:\n",
        "    if enz_name=='0':\n",
        "      given_enzyme_name_is_correct=True\n",
        "      return list(set(enz_list))\n",
        "    else:\n",
        "      try:\n",
        "        enz=eval(enz_name)\n",
        "        \n",
        "        enz_list.append(enz)\n",
        "        print('Given name is correct')\n",
        "        # where the enzyme is\n",
        "        print(f'Your enzyme is {enz} which cuts at {enz.site} and the restriction site is in {enz.search(seq)} place in your genome sequence')\n",
        "        enz_name=input(input_message)\n",
        "      except NameError:\n",
        "        print('Given name is incorrect, please try again:')\n",
        "        enz_name=input(input_message)\n",
        "  \n",
        "  return RestrictionBatch(set(enz_list))\n",
        "\n"
      ],
      "execution_count": 135,
      "outputs": []
    },
    {
      "cell_type": "code",
      "metadata": {
        "id": "ymOEmkhlt2_v"
      },
      "source": [
        "def all_positions(genome,enzymes): #find restriction sites of all enzymes that you specify\n",
        "    restr_sites={}\n",
        "    for enz in enzymes:\n",
        "      restr_sites[enz]=enz.search(genome)\n",
        "    return restr_sites"
      ],
      "execution_count": 122,
      "outputs": []
    },
    {
      "cell_type": "code",
      "metadata": {
        "id": "1xOGEkYLsNfB"
      },
      "source": [
        "def find_coding_regions(myseq):\n",
        "    s1=myseq #frame 1\n",
        "    s2=myseq[1:] #frame 2\n",
        "    s3=myseq[2:] #frame 3\n",
        "    frames=[s1,s2,s3] \n",
        "    seq_translated=[] #dna frames to be translated\n",
        "    \n",
        "    for seq in frames: #iterate over each frame\n",
        "        if len(seq)%3==1: #add N to avoid errors\n",
        "            seq=seq+'NN'\n",
        "            seq_translated.append(seq.translate())\n",
        "        elif len(seq)%3==2:\n",
        "            seq=seq+'N'\n",
        "            seq_translated.append(seq.translate())\n",
        "        else:\n",
        "            seq_translated.append(seq.translate())\n",
        "\n",
        "    pos=[[],[]] #positions of coding regions: first list is start positions, second\n",
        "              #list is stop positions\n",
        "    for transl in seq_translated: #find the first instance of START\n",
        "        start=transl.find('M')\n",
        "        \n",
        "        if start==-1: #if no starting codons, terminate\n",
        "            return pos\n",
        "        else:\n",
        "            while start!=-1: #iterate until run out of starting codons\n",
        "                stop=transl.find('*') #find STOP codons\n",
        "                if stop!=-1:  \n",
        "                    pos[0].append(start) #add coordinates\n",
        "                    pos[1].append(stop) \n",
        "                    start=transl[stop:].find('M') #new search is in the frame after the\n",
        "                    #coding region\n",
        "                else:\n",
        "                    return pos\n",
        "                    \n",
        "                \n",
        "            if start==-1:\n",
        "                return pos\n",
        "    return pos"
      ],
      "execution_count": 70,
      "outputs": []
    },
    {
      "cell_type": "code",
      "metadata": {
        "id": "PMVMo9_UoMNn"
      },
      "source": [
        "def find_dna(myseq,pos): #find the dna sequences of coding regions\n",
        "    coding_regions=[]\n",
        "    for ind in range(len(pos[0])): \n",
        "        start=pos[0][ind]\n",
        "        stop=pos[1][ind]\n",
        "        coding_regions.append(myseq[start*3:stop*3+3]) #dna sequence that codes for protein\n",
        "    return coding_regions"
      ],
      "execution_count": 67,
      "outputs": []
    },
    {
      "cell_type": "code",
      "metadata": {
        "id": "W18wvclILuP4"
      },
      "source": [
        "def silent_mutation(coding_region, coordinates, restr_sites,acids):\n",
        "    coding_region_start=coordinates[0] #coordinates is made of two lists: starting points of Coding sequences \n",
        "    coding_region_stop=coordinates[1] #and stopping points \n",
        "\n",
        "    for enz in restr_sites: #iterate over each enzyme\n",
        "        restr_start_sites=restr_sites[enz] #create a list of cutting positions\n",
        "        i=0\n",
        "        if restr_start_sites!=[]: #pick only those that actually cut our sequence\n",
        "            while i !=len(restr_start_sites): #iterate through all cutting points\n",
        "                start_site= restr_start_sites[i]-coding_region_start-1 #we shift by 1 nucleotide and also\n",
        "                                    #by the coordinate of coding sequence, because coding sequence is a \n",
        "                                #sliced version of genome (so when we slice a sequence that is in the\n",
        "                #middle of genome, we adjust the cutting point according to the position of coding sequence)\n",
        "                if start_site>=0 and start_site<=coding_region_stop-3: #restriction site is in the coding region\n",
        "                    f1=(start_site-1)%3 #check which frame the cutting point is\n",
        "                    f2=(start_site-2)%3\n",
        "                    f3=(start_site-3)%3\n",
        "                    if f1==0:\n",
        "                        translation_start=start_site-1 #shift 1 left\n",
        "                    elif f2==0: \n",
        "                        translation_start=start_site-2 #shift 2 left\n",
        "                    elif f3==0:\n",
        "                        translation_start=start_site #no shift = correct frame\n",
        "                    restr_site_codon=coding_region[translation_start:translation_start+3] #pick the cutting point and flanking nucleotides\n",
        "                    restr_site_acid=restr_site_codon.translate() #translate region that contains restriction site\n",
        "                    codons=acids[restr_site_acid].copy()\n",
        "                    codons.remove(restr_site_codon)\n",
        "                    if codons!=[]:\n",
        "                        coding_region=coding_region.replace(restr_site_codon,codons[0])\n",
        "                \n",
        "                    else:\n",
        "                        break\n",
        "                i+=1\n",
        "    return coding_region"
      ],
      "execution_count": 130,
      "outputs": []
    },
    {
      "cell_type": "code",
      "metadata": {
        "id": "mT5ye7YrtddM"
      },
      "source": [
        "if __name__ == '__main__':\n",
        "  genome=Seq(seqe.upper()) #convert all characters to uppercase\n",
        "  enz=input_enzyme_name()\n",
        "  positions=all_positions(genome, enz) #all cutting positions\n",
        "  coord=find_coding_regions(genome) #coding sequences and their coordinates\n",
        "  if coord!=[]:\n",
        "    cds=find_dna(genome,coord)\n",
        "    for i in range(len(cds)):\n",
        "        new_genome=silent_mutation(coding_region=cds[i], coordinates=[coords[0][i],coords[1][i]],restr_sites=positions,acids=acids)\n",
        "        print('original genome:',genome,'\\nmutated genome',new_genome)\n",
        "  else:\n",
        "    print(\"no coding regions\")"
      ],
      "execution_count": null,
      "outputs": []
    }
  ]
}